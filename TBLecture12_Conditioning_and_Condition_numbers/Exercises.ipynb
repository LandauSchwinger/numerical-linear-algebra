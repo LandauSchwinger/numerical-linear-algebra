{
 "cells": [
  {
   "cell_type": "code",
   "execution_count": 1,
   "metadata": {},
   "outputs": [],
   "source": [
    "import numpy as np\n",
    "import scipy as sc\n",
    "import matplotlib.pyplot as plt"
   ]
  },
  {
   "cell_type": "markdown",
   "metadata": {},
   "source": [
    "## Task 12.1"
   ]
  },
  {
   "cell_type": "markdown",
   "metadata": {},
   "source": [
    "Suppose A is a $202 \\times 202$ matrix with $||A||_2=100$ and $||A||_F=101$. Give the sharpes possible lower bound on the 2-norm condition number $\\kappa(A)$."
   ]
  },
  {
   "cell_type": "markdown",
   "metadata": {},
   "source": [
    "## Solution"
   ]
  },
  {
   "cell_type": "markdown",
   "metadata": {},
   "source": [
    "$||A||_F=\\sqrt{\\sum_{i,j}|A_{i,j}|^2}$ by definition.\n",
    "\n",
    "$||A||_F = \\sqrt{\\mathrm{Tr}(AA^{\\mathrm{T}})}$, using SVD $A=U\\Sigma V^{\\mathrm{T}}$:\n",
    "\n",
    "$||A||_F = \\sqrt{\\mathrm{Tr}(AA^{\\mathrm{T}})} = \\sqrt{\\mathrm{Tr}(U\\Sigma \\Sigma^{\\mathrm{T}} U^{\\mathrm{T}})}$, using circular permutations invariants for trace:\n",
    "\n",
    "$||A||_F = \\sqrt{\\sum_{i=1}^m \\sigma_i^2}$, where $\\sigma_i$ - ith singular number of matrix $A$ and $m=\\mathrm{rank}(A)$.\n",
    "\n",
    "$\\kappa(A)=\\sigma_1 / \\sigma_m$, we know $\\sigma_1=||A||_2=100$, so let's estimate $\\sigma_m$:\n",
    "\n",
    "$||A||_F \\leq \\sqrt{\\sigma_1^2 + 201 * \\sigma_m^2}$. So $101^2 \\leq 100^2 + 201 * \\sigma_m^2$."
   ]
  },
  {
   "cell_type": "code",
   "execution_count": null,
   "metadata": {},
   "outputs": [],
   "source": [
    "print((101**2-100**2) / 201)"
   ]
  },
  {
   "cell_type": "markdown",
   "metadata": {},
   "source": [
    "$1 \\leq \\sigma_m^2$, or as $\\sigma_i \\geq 0$ we get $1 \\leq \\sigma_m$ and finally:\n",
    "\n",
    "$\\kappa(A) \\geq 100$. The end."
   ]
  },
  {
   "cell_type": "markdown",
   "metadata": {},
   "source": [
    "## Task 12.2"
   ]
  },
  {
   "cell_type": "markdown",
   "metadata": {},
   "source": [
    "a) Derive $m \\times n$ matrix $A$ that maps n-vector of data at ${x_j}$ to an m-vector of sampled values ${y_j}$, where p is the degree n-1 polynomial interpolant of the data."
   ]
  },
  {
   "cell_type": "markdown",
   "metadata": {},
   "source": [
    "b) Write a program to calculate $A$ and plot $||A||_{\\infty}$ on semilog scale for $n=1,2,...,30$, $m=2n-1$."
   ]
  },
  {
   "cell_type": "code",
   "execution_count": 60,
   "metadata": {},
   "outputs": [],
   "source": [
    "def get_matrix_y(n: int):\n",
    "    m = 2*n -1\n",
    "    cols = []\n",
    "    cols.append(np.ones(m, dtype=np.float64)) # cols of 1\n",
    "    col = np.linspace(-1, 1, m, dtype=np.float64)\n",
    "    col_1 = np.copy(col)\n",
    "    cols.append(np.copy(col_1))\n",
    "    for i in range(n - 2):\n",
    "        col_1 = col_1 * col\n",
    "        cols.append(np.copy(col_1))\n",
    "    return np.column_stack(cols)\n",
    "\n",
    "def get_matrix_x(n: int):\n",
    "    cols = []\n",
    "    cols.append(np.ones(n, dtype=np.float64)) # cols of 1\n",
    "    col = np.linspace(-1, 1, n, dtype=np.float64)\n",
    "    col_1 = np.copy(col)\n",
    "    cols.append(np.copy(col_1))\n",
    "    for i in range(n - 2):\n",
    "        col_1 = col_1 * col\n",
    "        cols.append(np.copy(col_1))\n",
    "    return np.column_stack(cols)\n",
    "\n",
    "def get_matrix(n: int):\n",
    "    return np.dot(get_matrix_y(n),np.linalg.inv(get_matrix_x(n)))\n",
    "    "
   ]
  },
  {
   "cell_type": "code",
   "execution_count": 61,
   "metadata": {},
   "outputs": [],
   "source": [
    "def find_infty_norm(matrix):\n",
    "    abs_matrix = np.abs(matrix)\n",
    "    return np.max(np.sum(abs_matrix, axis=1))"
   ]
  },
  {
   "cell_type": "code",
   "execution_count": null,
   "metadata": {},
   "outputs": [],
   "source": [
    "a_infty_values = [find_infty_norm(get_matrix(n)) for n in range(4, 35)]\n",
    "n_arr = np.arange(4, 35)\n",
    "plt.plot(n_arr, a_infty_values)\n",
    "plt.plot(n_arr, 2**(n_arr-1)/(np.exp(1)*(n_arr-2)*np.log(n_arr-2)), color='red')\n",
    "plt.yscale('log')\n",
    "plt.grid()"
   ]
  },
  {
   "cell_type": "code",
   "execution_count": null,
   "metadata": {},
   "outputs": [],
   "source": []
  }
 ],
 "metadata": {
  "kernelspec": {
   "display_name": "ml_env",
   "language": "python",
   "name": "python3"
  },
  "language_info": {
   "codemirror_mode": {
    "name": "ipython",
    "version": 3
   },
   "file_extension": ".py",
   "mimetype": "text/x-python",
   "name": "python",
   "nbconvert_exporter": "python",
   "pygments_lexer": "ipython3",
   "version": "3.8.10"
  }
 },
 "nbformat": 4,
 "nbformat_minor": 2
}
