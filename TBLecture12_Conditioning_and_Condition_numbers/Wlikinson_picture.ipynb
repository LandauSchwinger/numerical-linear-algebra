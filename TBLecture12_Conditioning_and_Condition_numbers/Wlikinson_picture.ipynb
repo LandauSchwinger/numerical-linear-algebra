{
 "cells": [
  {
   "cell_type": "code",
   "execution_count": 1,
   "metadata": {},
   "outputs": [],
   "source": [
    "import numpy as np\n",
    "import scipy as sc\n",
    "import matplotlib.pyplot as plt"
   ]
  },
  {
   "cell_type": "markdown",
   "metadata": {},
   "source": [
    "# Wilkinson polynomial definition"
   ]
  },
  {
   "cell_type": "markdown",
   "metadata": {},
   "source": [
    "$p(x)=\\prod_{i=1}^{20}(x-i)$ - looks yammy, isn't it?"
   ]
  },
  {
   "cell_type": "markdown",
   "metadata": {},
   "source": [
    "Look at all coefficients:"
   ]
  },
  {
   "cell_type": "code",
   "execution_count": 2,
   "metadata": {},
   "outputs": [],
   "source": [
    "#you may just use np.poly(roots)\n",
    "#here I calculate coefficients iteratively\n",
    "def wilkinoson_like_coefs(degree: int = 20):\n",
    "    coefs = [-1, 1]\n",
    "    if degree == 1: return coefs\n",
    "    for root in range(2, degree + 1):\n",
    "        #deg==root in our case\n",
    "        for coef_ind in range(len(coefs) - 1, 0, -1):\n",
    "            coefs[coef_ind] = coefs[coef_ind - 1] - coefs[coef_ind] * root\n",
    "        coefs[0] *= -root\n",
    "        coefs.append(1) # add last coef as 1\n",
    "    # coefs = np.array(coefs, dtype=np.float64)\n",
    "    return coefs"
   ]
  },
  {
   "cell_type": "code",
   "execution_count": 3,
   "metadata": {},
   "outputs": [],
   "source": [
    "coefs = np.array(wilkinoson_like_coefs(), dtype=np.float64)\n",
    "roots = np.roots(coefs[::-1])"
   ]
  },
  {
   "cell_type": "markdown",
   "metadata": {},
   "source": [
    "# Experiment from the book"
   ]
  },
  {
   "cell_type": "markdown",
   "metadata": {},
   "source": [
    "Let's shift all polynomial coefs as:\n",
    "\n",
    "$a_k = a_k(1+10^{-10}r_k)$, where $r_k$ is sampled from $\\mathcal{N}(0,1)$"
   ]
  },
  {
   "cell_type": "code",
   "execution_count": 4,
   "metadata": {},
   "outputs": [],
   "source": [
    "coefs = np.array(wilkinoson_like_coefs(), dtype=np.float64)\n",
    "roots = np.roots(coefs[::-1])"
   ]
  },
  {
   "cell_type": "code",
   "execution_count": null,
   "metadata": {},
   "outputs": [],
   "source": [
    "roots"
   ]
  },
  {
   "cell_type": "code",
   "execution_count": null,
   "metadata": {},
   "outputs": [],
   "source": [
    "np.random.seed(314) # for reproducibility\n",
    "roots = roots.astype(np.complex256)\n",
    "#plot initial roots, big red dots as initial roots\n",
    "plt.scatter([root.real for root in roots], [root.imag for root in roots], s=20, color='red')\n",
    "#start the experiment\n",
    "for exp in range(100):\n",
    "    new_coefs = np.copy(coefs)\n",
    "    for i in range(new_coefs.shape[0]):\n",
    "        #reproduce an experiment from book\n",
    "        new_coefs[i] += new_coefs[i] * 1e-10 * np.random.standard_normal()\n",
    "    roots = np.roots(new_coefs[::-1])\n",
    "    roots = roots.astype(np.complex256)\n",
    "    #small black dots as other roots\n",
    "    plt.scatter([root.real for root in roots], [root.imag for root in roots], s=1, color='black')\n",
    "plt.grid()\n",
    "plt.show()"
   ]
  },
  {
   "cell_type": "markdown",
   "metadata": {},
   "source": [
    "Why we get such a mess?\n",
    "Well, let's obtain relative conditional numbers for any polynomial root $x_j$ when polynomial coefficient $a_i$ is changed as $a_i=a_i+\\delta a_i$:\n",
    "\n",
    "$\\kappa(x_j|\\delta a_i)=(\\frac{\\delta x_j}{x_j})/(\\frac{\\delta a_i}{a_i})$.\n",
    "\n",
    "For this we need to know $\\delta x_j$. Let's denote new polynomial with $a_i=a_i+\\delta a_i$ as $\\hat{p}(x)$\n",
    "\n",
    "$\\hat{p}(x_j+\\delta x_j)=p'(x_j)\\delta x_j$ from the one side (Taylor series near $x_j$), and\n",
    "\n",
    "$\\hat{p}(x_j+\\delta x_j)=\\delta a_i x_j^i$ from the other side (highest term contatining small quantity).\n",
    "\n",
    "By puting equations together we will find $\\delta x_j$ and then we will get:\n",
    "\n",
    "$\\kappa(x_j|\\delta a_i)=\\frac{|a_i x_j^{i-1}|}{|p'(x_j)|}$."
   ]
  }
 ],
 "metadata": {
  "kernelspec": {
   "display_name": "ml_env",
   "language": "python",
   "name": "python3"
  },
  "language_info": {
   "codemirror_mode": {
    "name": "ipython",
    "version": 3
   },
   "file_extension": ".py",
   "mimetype": "text/x-python",
   "name": "python",
   "nbconvert_exporter": "python",
   "pygments_lexer": "ipython3",
   "version": "3.8.10"
  }
 },
 "nbformat": 4,
 "nbformat_minor": 2
}
